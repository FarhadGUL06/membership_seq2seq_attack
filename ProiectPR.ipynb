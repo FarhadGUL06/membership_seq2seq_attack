{
 "cells": [
  {
   "cell_type": "code",
   "execution_count": 1,
   "metadata": {
    "colab": {
     "base_uri": "https://localhost:8080/"
    },
    "executionInfo": {
     "elapsed": 7904,
     "status": "ok",
     "timestamp": 1704568213973,
     "user": {
      "displayName": "eduard petcu",
      "userId": "16499115187321741106"
     },
     "user_tz": -120
    },
    "id": "2HCpjGuZHgff",
    "outputId": "494681a9-3abd-4176-e5d8-cdd84d45e281"
   },
   "outputs": [
    {
     "name": "stdout",
     "output_type": "stream",
     "text": [
      "Defaulting to user installation because normal site-packages is not writeable\n",
      "Collecting torchtext==0.6\n",
      "  Downloading torchtext-0.6.0-py3-none-any.whl (64 kB)\n",
      "\u001b[2K     \u001b[90m━━━━━━━━━━━━━━━━━━━━━━━━━━━━━━━━━━━━━━━━\u001b[0m \u001b[32m64.2/64.2 kB\u001b[0m \u001b[31m1.1 MB/s\u001b[0m eta \u001b[36m0:00:00\u001b[0ma \u001b[36m0:00:01\u001b[0m\n",
      "\u001b[?25hRequirement already satisfied: tqdm in /home/farhad/.local/lib/python3.10/site-packages (from torchtext==0.6) (4.64.1)\n",
      "Requirement already satisfied: requests in /home/farhad/.local/lib/python3.10/site-packages (from torchtext==0.6) (2.31.0)\n",
      "Requirement already satisfied: torch in /home/farhad/.local/lib/python3.10/site-packages (from torchtext==0.6) (1.13.1)\n",
      "Requirement already satisfied: numpy in /home/farhad/.local/lib/python3.10/site-packages (from torchtext==0.6) (1.24.4)\n",
      "Requirement already satisfied: six in /usr/local/lib/python3.10/dist-packages (from torchtext==0.6) (1.16.0)\n",
      "Collecting sentencepiece (from torchtext==0.6)\n",
      "  Downloading sentencepiece-0.1.99-cp310-cp310-manylinux_2_17_x86_64.manylinux2014_x86_64.whl (1.3 MB)\n",
      "\u001b[2K     \u001b[90m━━━━━━━━━━━━━━━━━━━━━━━━━━━━━━━━━━━━━━━━\u001b[0m \u001b[32m1.3/1.3 MB\u001b[0m \u001b[31m9.6 MB/s\u001b[0m eta \u001b[36m0:00:00\u001b[0ma \u001b[36m0:00:01\u001b[0m\n",
      "\u001b[?25hRequirement already satisfied: charset-normalizer<4,>=2 in /home/farhad/.local/lib/python3.10/site-packages (from requests->torchtext==0.6) (3.1.0)\n",
      "Requirement already satisfied: idna<4,>=2.5 in /home/farhad/.local/lib/python3.10/site-packages (from requests->torchtext==0.6) (3.4)\n",
      "Requirement already satisfied: urllib3<3,>=1.21.1 in /home/farhad/.local/lib/python3.10/site-packages (from requests->torchtext==0.6) (1.26.15)\n",
      "Requirement already satisfied: certifi>=2017.4.17 in /home/farhad/.local/lib/python3.10/site-packages (from requests->torchtext==0.6) (2022.12.7)\n",
      "Requirement already satisfied: typing-extensions in /home/farhad/.local/lib/python3.10/site-packages (from torch->torchtext==0.6) (4.8.0)\n",
      "Requirement already satisfied: nvidia-cuda-runtime-cu11==11.7.99 in /home/farhad/.local/lib/python3.10/site-packages (from torch->torchtext==0.6) (11.7.99)\n",
      "Requirement already satisfied: nvidia-cudnn-cu11==8.5.0.96 in /home/farhad/.local/lib/python3.10/site-packages (from torch->torchtext==0.6) (8.5.0.96)\n",
      "Requirement already satisfied: nvidia-cublas-cu11==11.10.3.66 in /home/farhad/.local/lib/python3.10/site-packages (from torch->torchtext==0.6) (11.10.3.66)\n",
      "Requirement already satisfied: nvidia-cuda-nvrtc-cu11==11.7.99 in /home/farhad/.local/lib/python3.10/site-packages (from torch->torchtext==0.6) (11.7.99)\n",
      "Requirement already satisfied: setuptools in /home/farhad/.local/lib/python3.10/site-packages (from nvidia-cublas-cu11==11.10.3.66->torch->torchtext==0.6) (67.6.1)\n",
      "Requirement already satisfied: wheel in /usr/lib/python3/dist-packages (from nvidia-cublas-cu11==11.10.3.66->torch->torchtext==0.6) (0.37.1)\n",
      "Installing collected packages: sentencepiece, torchtext\n",
      "Successfully installed sentencepiece-0.1.99 torchtext-0.6.0\n",
      "Note: you may need to restart the kernel to use updated packages.\n"
     ]
    }
   ],
   "source": [
    "%pip install -U torchtext==0.6\n",
    "%pip install nltk"
   ]
  },
  {
   "cell_type": "code",
   "execution_count": 1,
   "metadata": {
    "executionInfo": {
     "elapsed": 2088,
     "status": "ok",
     "timestamp": 1704641986017,
     "user": {
      "displayName": "eduard petcu",
      "userId": "16499115187321741106"
     },
     "user_tz": -120
    },
    "id": "KjXh_MZik7n_"
   },
   "outputs": [],
   "source": [
    "import string\n",
    "import numpy as np\n",
    "import re\n",
    "from pickle import load,dump\n",
    "from unicodedata import normalize\n",
    "from numpy import array\n",
    "from numpy.random import rand\n",
    "from numpy.random import shuffle\n",
    "from numpy import argmax\n",
    "from keras.preprocessing.text import Tokenizer\n",
    "from keras.preprocessing.sequence import pad_sequences\n",
    "from keras.utils import to_categorical\n",
    "# from keras.utils.vis_utils import plot_model\n",
    "from keras.models import Sequential\n",
    "from keras.layers import LSTM\n",
    "from keras.layers import Dense\n",
    "from keras.layers import Embedding\n",
    "from keras.layers import RepeatVector\n",
    "from keras.layers import TimeDistributed\n",
    "from keras.callbacks import ModelCheckpoint\n",
    "from keras.models import load_model\n",
    "from nltk.translate.bleu_score import corpus_bleu\n",
    "\n",
    "import pandas as pd\n",
    "from sklearn.model_selection import train_test_split\n",
    "from sklearn.feature_extraction.text import CountVectorizer\n",
    "from sklearn.naive_bayes import MultinomialNB\n",
    "from sklearn.metrics import accuracy_score, classification_report"
   ]
  },
  {
   "cell_type": "code",
   "execution_count": 2,
   "metadata": {
    "executionInfo": {
     "elapsed": 330,
     "status": "ok",
     "timestamp": 1704642002539,
     "user": {
      "displayName": "eduard petcu",
      "userId": "16499115187321741106"
     },
     "user_tz": -120
    },
    "id": "VimCwjXplLX2"
   },
   "outputs": [],
   "source": [
    "def load_doc(filename):\n",
    "    # open the file as read only\n",
    "    file = open(filename, mode='rt', encoding='utf-8')\n",
    "    # read all text\n",
    "    text = file.read()\n",
    "    # close the file\n",
    "    file.close()\n",
    "    return text"
   ]
  },
  {
   "cell_type": "code",
   "execution_count": 3,
   "metadata": {
    "executionInfo": {
     "elapsed": 323,
     "status": "ok",
     "timestamp": 1704642013244,
     "user": {
      "displayName": "eduard petcu",
      "userId": "16499115187321741106"
     },
     "user_tz": -120
    },
    "id": "iabO3kb4lMR5"
   },
   "outputs": [],
   "source": [
    "def to_pairs(doc):\n",
    "    lines = doc.strip().split('\\n')\n",
    "    pairs = [line.split('\\t') for line in  lines]\n",
    "    return pairs"
   ]
  },
  {
   "cell_type": "code",
   "execution_count": 45,
   "metadata": {
    "executionInfo": {
     "elapsed": 2,
     "status": "ok",
     "timestamp": 1704642023916,
     "user": {
      "displayName": "eduard petcu",
      "userId": "16499115187321741106"
     },
     "user_tz": -120
    },
    "id": "Y78Rc2eVlOk9"
   },
   "outputs": [],
   "source": [
    "def clean_pairs(lines):\n",
    "    cleaned = list()\n",
    "    # prepare regex for char filtering\n",
    "    re_print = re.compile('[^%s]' % re.escape(string.printable))\n",
    "    # prepare translation table for removing punctuation\n",
    "    table = str.maketrans('', '', string.punctuation)\n",
    "    for pair in lines:\n",
    "        clean_pair = list()\n",
    "        for line in pair:\n",
    "            # normalize unicode characters\n",
    "            line = normalize('NFD', line).encode('ascii', 'ignore')\n",
    "            line = line.decode('UTF-8')\n",
    "            # tokenize on white space\n",
    "            line = line.split()\n",
    "            # convert to lowercase\n",
    "            line = [word.lower() for word in line]\n",
    "            # remove punctuation from each token\n",
    "            line = [word.translate(table) for word in line]\n",
    "            # remove non-printable chars form each token\n",
    "            line = [re_print.sub('', w) for w in line]\n",
    "            # remove tokens with numbers in them\n",
    "            line = [word for word in line if word.isalpha()]\n",
    "            # store as string\n",
    "            clean_pair.append(' '.join(line))\n",
    "        cleaned.append(clean_pair)\n",
    "    return array(cleaned)"
   ]
  },
  {
   "cell_type": "code",
   "execution_count": 5,
   "metadata": {
    "executionInfo": {
     "elapsed": 312,
     "status": "ok",
     "timestamp": 1704642035191,
     "user": {
      "displayName": "eduard petcu",
      "userId": "16499115187321741106"
     },
     "user_tz": -120
    },
    "id": "FFe1t_HmlRcQ"
   },
   "outputs": [],
   "source": [
    "def save_clean_data(sentences, filename):\n",
    "    dump(sentences, open(filename, 'wb'))\n",
    "    print('Saved: %s' % filename)"
   ]
  },
  {
   "cell_type": "code",
   "execution_count": 46,
   "metadata": {
    "colab": {
     "base_uri": "https://localhost:8080/"
    },
    "executionInfo": {
     "elapsed": 7407,
     "status": "ok",
     "timestamp": 1704642563062,
     "user": {
      "displayName": "eduard petcu",
      "userId": "16499115187321741106"
     },
     "user_tz": -120
    },
    "id": "JeYF773YlfK6",
    "outputId": "deb96a16-9d78-49b6-d075-cc8d4df17701"
   },
   "outputs": [
    {
     "name": "stdout",
     "output_type": "stream",
     "text": [
      "Saved: english-german.pkl\n"
     ]
    }
   ],
   "source": [
    "# load dataset\n",
    "filename = 'deu.txt'\n",
    "doc = load_doc(filename)\n",
    "# split into english-german pairs\n",
    "pairs = to_pairs(doc)\n",
    "# clean sentences\n",
    "clean_pair = clean_pairs(pairs)\n",
    "# save clean pairs to file\n",
    "save_clean_data(clean_pair, 'english-german.pkl')"
   ]
  },
  {
   "cell_type": "code",
   "execution_count": 48,
   "metadata": {},
   "outputs": [
    {
     "name": "stdout",
     "output_type": "stream",
     "text": [
      "Saved: english-german_5000.pkl\n"
     ]
    }
   ],
   "source": [
    "# load dataset for 5000 not used in training\n",
    "filename = 'deu_5000.txt'\n",
    "doc = load_doc(filename)\n",
    "# split into english-german pairs\n",
    "pairs = to_pairs(doc)\n",
    "# clean sentences\n",
    "clean_pair = clean_pairs(pairs)\n",
    "# save clean pairs to file\n",
    "save_clean_data(clean_pair, 'english-german_5000.pkl')"
   ]
  },
  {
   "cell_type": "code",
   "execution_count": 7,
   "metadata": {
    "executionInfo": {
     "elapsed": 349,
     "status": "ok",
     "timestamp": 1704642569370,
     "user": {
      "displayName": "eduard petcu",
      "userId": "16499115187321741106"
     },
     "user_tz": -120
    },
    "id": "qUx7hku3nRDb"
   },
   "outputs": [],
   "source": [
    "# load a clean dataset\n",
    "def load_clean_sentences(filename):\n",
    "    return load(open(filename, 'rb'))"
   ]
  },
  {
   "cell_type": "code",
   "execution_count": 26,
   "metadata": {},
   "outputs": [],
   "source": [
    "# Vocabularul \n",
    "raw_dataset = load_clean_sentences('english-german.pkl')\n",
    "# reduce dataset size\n",
    "n_sentences = 30000\n",
    "dataset = raw_dataset[:n_sentences, :]"
   ]
  },
  {
   "cell_type": "code",
   "execution_count": 27,
   "metadata": {},
   "outputs": [],
   "source": [
    "# Shuffle dataset - DOAR O DATA!\n",
    "# random shuffle\n",
    "shuffle(dataset)"
   ]
  },
  {
   "cell_type": "code",
   "execution_count": 28,
   "metadata": {},
   "outputs": [
    {
     "name": "stdout",
     "output_type": "stream",
     "text": [
      "Saved: english-german-clean.pkl\n"
     ]
    }
   ],
   "source": [
    "# Salvare dataset\n",
    "save_clean_data(dataset, 'english-german-clean.pkl')"
   ]
  },
  {
   "cell_type": "code",
   "execution_count": 30,
   "metadata": {},
   "outputs": [],
   "source": [
    "# Preluare dataset\n",
    "\n",
    "# load dataset\n",
    "dataset = load_clean_sentences('english-german-clean.pkl')"
   ]
  },
  {
   "cell_type": "code",
   "execution_count": 31,
   "metadata": {
    "colab": {
     "base_uri": "https://localhost:8080/"
    },
    "executionInfo": {
     "elapsed": 1701,
     "status": "ok",
     "timestamp": 1704642578082,
     "user": {
      "displayName": "eduard petcu",
      "userId": "16499115187321741106"
     },
     "user_tz": -120
    },
    "id": "aFkJT5B_nXkW",
    "outputId": "b2f7cf8f-1d59-4467-84a7-1b5d19354dbc"
   },
   "outputs": [
    {
     "name": "stdout",
     "output_type": "stream",
     "text": [
      "Saved: english-german-both.pkl\n",
      "Saved: english-german-train.pkl\n",
      "Saved: english-german-test.pkl\n"
     ]
    }
   ],
   "source": [
    "# split into train/test\n",
    "train, test = dataset[:27000], dataset[27001:n_sentences]\n",
    "# save\n",
    "save_clean_data(dataset, 'english-german-both.pkl')\n",
    "save_clean_data(train, 'english-german-train.pkl')\n",
    "save_clean_data(test, 'english-german-test.pkl')\n"
   ]
  },
  {
   "cell_type": "code",
   "execution_count": 32,
   "metadata": {
    "executionInfo": {
     "elapsed": 2,
     "status": "ok",
     "timestamp": 1704642593054,
     "user": {
      "displayName": "eduard petcu",
      "userId": "16499115187321741106"
     },
     "user_tz": -120
    },
    "id": "BcruTTuenaW8"
   },
   "outputs": [],
   "source": [
    "def create_tokenizer(lines):\n",
    "    tokenizer = Tokenizer()\n",
    "    tokenizer.fit_on_texts(lines)\n",
    "    return tokenizer"
   ]
  },
  {
   "cell_type": "code",
   "execution_count": 33,
   "metadata": {
    "executionInfo": {
     "elapsed": 1,
     "status": "ok",
     "timestamp": 1704642600761,
     "user": {
      "displayName": "eduard petcu",
      "userId": "16499115187321741106"
     },
     "user_tz": -120
    },
    "id": "r2YJlY6jncJS"
   },
   "outputs": [],
   "source": [
    "def max_length(lines):\n",
    "    return max(len(line.split()) for line in lines)"
   ]
  },
  {
   "cell_type": "code",
   "execution_count": 34,
   "metadata": {
    "executionInfo": {
     "elapsed": 356,
     "status": "ok",
     "timestamp": 1704642607477,
     "user": {
      "displayName": "eduard petcu",
      "userId": "16499115187321741106"
     },
     "user_tz": -120
    },
    "id": "WdPBEY_pnfG_"
   },
   "outputs": [],
   "source": [
    "def encode_sequences(tokenizer, length, lines):\n",
    "    X = tokenizer.texts_to_sequences(lines)\n",
    "    # pad sequences with 0 values\n",
    "    X = pad_sequences(X, maxlen=length, padding='post')\n",
    "    return X\n",
    "def encode_output(sequences, vocab_size):\n",
    "    ylist = list()\n",
    "    for sequence in sequences:\n",
    "        encoded = to_categorical(sequence, num_classes=vocab_size)\n",
    "        ylist.append(encoded)\n",
    "    y = array(ylist)\n",
    "    y = y.reshape(sequences.shape[0], sequences.shape[1], vocab_size)\n",
    "    return y"
   ]
  },
  {
   "cell_type": "code",
   "execution_count": 35,
   "metadata": {
    "executionInfo": {
     "elapsed": 2,
     "status": "ok",
     "timestamp": 1704642621566,
     "user": {
      "displayName": "eduard petcu",
      "userId": "16499115187321741106"
     },
     "user_tz": -120
    },
    "id": "W6ICy-8Hnifo"
   },
   "outputs": [],
   "source": [
    "def define_model(src_vocab, tar_vocab, src_timesteps, tar_timesteps, n_units):\n",
    "    model = Sequential()\n",
    "    model.add(Embedding(src_vocab, n_units, input_length=src_timesteps, mask_zero=True))\n",
    "    model.add(LSTM(n_units))\n",
    "    model.add(RepeatVector(tar_timesteps))\n",
    "    model.add(LSTM(n_units, return_sequences=True))\n",
    "    model.add(TimeDistributed(Dense(tar_vocab, activation='softmax')))\n",
    "    return model"
   ]
  },
  {
   "cell_type": "code",
   "execution_count": 36,
   "metadata": {},
   "outputs": [
    {
     "name": "stdout",
     "output_type": "stream",
     "text": [
      "English Vocabulary Size: 6679\n",
      "English Max Length: 8\n",
      "German Vocabulary Size: 11517\n",
      "German Max Length: 17\n"
     ]
    }
   ],
   "source": [
    "# load datasets\n",
    "dataset = load_clean_sentences('english-german-both.pkl')\n",
    "train = load_clean_sentences('english-german-train.pkl')\n",
    "test = load_clean_sentences('english-german-test.pkl')\n",
    "# prepare english tokenizer\n",
    "eng_tokenizer = create_tokenizer(dataset[:, 0])\n",
    "eng_vocab_size = len(eng_tokenizer.word_index) + 1\n",
    "eng_length = max_length(dataset[:, 0])\n",
    "print('English Vocabulary Size: %d' % eng_vocab_size)\n",
    "print('English Max Length: %d' % (eng_length))\n",
    "# prepare german tokenizer\n",
    "ger_tokenizer = create_tokenizer(dataset[:, 1])\n",
    "ger_vocab_size = len(ger_tokenizer.word_index) + 1\n",
    "ger_length = max_length(dataset[:, 1])\n",
    "print('German Vocabulary Size: %d' % ger_vocab_size)\n",
    "print('German Max Length: %d' % (ger_length))\n",
    "# prepare training data\n",
    "trainX = encode_sequences(ger_tokenizer, ger_length, train[:, 1]) # germana\n",
    "trainY = encode_sequences(eng_tokenizer, eng_length, train[:, 0]) # engleza\n",
    "trainY = encode_output(trainY, eng_vocab_size)\n",
    "# prepare validation data\n",
    "testX = encode_sequences(ger_tokenizer, ger_length, test[:, 1])\n",
    "testY = encode_sequences(eng_tokenizer, eng_length, test[:, 0])\n",
    "testY = encode_output(testY, eng_vocab_size)\n",
    "# define model\n",
    "model = define_model(ger_vocab_size, eng_vocab_size, ger_length, eng_length, 256)\n",
    "#model.load_weights('model.h5')"
   ]
  },
  {
   "cell_type": "code",
   "execution_count": 13,
   "metadata": {
    "colab": {
     "base_uri": "https://localhost:8080/"
    },
    "executionInfo": {
     "elapsed": 811960,
     "status": "ok",
     "timestamp": 1704643476516,
     "user": {
      "displayName": "eduard petcu",
      "userId": "16499115187321741106"
     },
     "user_tz": -120
    },
    "id": "UuXU2dypnldc",
    "outputId": "f3524b98-54a7-4ed6-cf9f-4db21491429c"
   },
   "outputs": [
    {
     "name": "stdout",
     "output_type": "stream",
     "text": [
      "English Vocabulary Size: 5049\n",
      "English Max Length: 7\n",
      "German Vocabulary Size: 8284\n",
      "German Max Length: 11\n"
     ]
    },
    {
     "ename": "KeyboardInterrupt",
     "evalue": "",
     "output_type": "error",
     "traceback": [
      "\u001b[1;31m---------------------------------------------------------------------------\u001b[0m",
      "\u001b[1;31mKeyboardInterrupt\u001b[0m                         Traceback (most recent call last)",
      "Cell \u001b[1;32mIn[13], line 20\u001b[0m\n\u001b[0;32m     18\u001b[0m trainX \u001b[38;5;241m=\u001b[39m encode_sequences(ger_tokenizer, ger_length, train[:, \u001b[38;5;241m1\u001b[39m]) \u001b[38;5;66;03m# germana\u001b[39;00m\n\u001b[0;32m     19\u001b[0m trainY \u001b[38;5;241m=\u001b[39m encode_sequences(eng_tokenizer, eng_length, train[:, \u001b[38;5;241m0\u001b[39m]) \u001b[38;5;66;03m# engleza\u001b[39;00m\n\u001b[1;32m---> 20\u001b[0m trainY \u001b[38;5;241m=\u001b[39m \u001b[43mencode_output\u001b[49m\u001b[43m(\u001b[49m\u001b[43mtrainY\u001b[49m\u001b[43m,\u001b[49m\u001b[43m \u001b[49m\u001b[43meng_vocab_size\u001b[49m\u001b[43m)\u001b[49m\n\u001b[0;32m     21\u001b[0m \u001b[38;5;66;03m# prepare validation data\u001b[39;00m\n\u001b[0;32m     22\u001b[0m testX \u001b[38;5;241m=\u001b[39m encode_sequences(ger_tokenizer, ger_length, test[:, \u001b[38;5;241m1\u001b[39m])\n",
      "Cell \u001b[1;32mIn[11], line 9\u001b[0m, in \u001b[0;36mencode_output\u001b[1;34m(sequences, vocab_size)\u001b[0m\n\u001b[0;32m      7\u001b[0m ylist \u001b[38;5;241m=\u001b[39m \u001b[38;5;28mlist\u001b[39m()\n\u001b[0;32m      8\u001b[0m \u001b[38;5;28;01mfor\u001b[39;00m sequence \u001b[38;5;129;01min\u001b[39;00m sequences:\n\u001b[1;32m----> 9\u001b[0m     encoded \u001b[38;5;241m=\u001b[39m \u001b[43mto_categorical\u001b[49m\u001b[43m(\u001b[49m\u001b[43msequence\u001b[49m\u001b[43m,\u001b[49m\u001b[43m \u001b[49m\u001b[43mnum_classes\u001b[49m\u001b[38;5;241;43m=\u001b[39;49m\u001b[43mvocab_size\u001b[49m\u001b[43m)\u001b[49m\n\u001b[0;32m     10\u001b[0m     ylist\u001b[38;5;241m.\u001b[39mappend(encoded)\n\u001b[0;32m     11\u001b[0m y \u001b[38;5;241m=\u001b[39m array(ylist)\n",
      "File \u001b[1;32m~\\AppData\\Local\\Packages\\PythonSoftwareFoundation.Python.3.10_qbz5n2kfra8p0\\LocalCache\\local-packages\\Python310\\site-packages\\keras\\src\\utils\\np_utils.py:76\u001b[0m, in \u001b[0;36mto_categorical\u001b[1;34m(y, num_classes, dtype)\u001b[0m\n\u001b[0;32m     74\u001b[0m categorical[np\u001b[38;5;241m.\u001b[39marange(n), y] \u001b[38;5;241m=\u001b[39m \u001b[38;5;241m1\u001b[39m\n\u001b[0;32m     75\u001b[0m output_shape \u001b[38;5;241m=\u001b[39m input_shape \u001b[38;5;241m+\u001b[39m (num_classes,)\n\u001b[1;32m---> 76\u001b[0m categorical \u001b[38;5;241m=\u001b[39m \u001b[43mnp\u001b[49m\u001b[38;5;241;43m.\u001b[39;49m\u001b[43mreshape\u001b[49m\u001b[43m(\u001b[49m\u001b[43mcategorical\u001b[49m\u001b[43m,\u001b[49m\u001b[43m \u001b[49m\u001b[43moutput_shape\u001b[49m\u001b[43m)\u001b[49m\n\u001b[0;32m     77\u001b[0m \u001b[38;5;28;01mreturn\u001b[39;00m categorical\n",
      "File \u001b[1;32m<__array_function__ internals>:177\u001b[0m, in \u001b[0;36mreshape\u001b[1;34m(*args, **kwargs)\u001b[0m\n",
      "\u001b[1;31mKeyboardInterrupt\u001b[0m: "
     ]
    }
   ],
   "source": [
    "\n",
    "model.compile(optimizer='adam', loss='categorical_crossentropy')\n",
    "# summarize defined model\n",
    "print(model.summary())\n",
    "# fit model\n",
    "filename = 'model.h5'\n",
    "checkpoint = ModelCheckpoint(filename, monitor='val_loss', verbose=1, save_best_only=True, mode='min')\n",
    "model.fit(trainX, trainY, epochs=35, batch_size=128, validation_data=(testX, testY), callbacks=[checkpoint], verbose=2)"
   ]
  },
  {
   "cell_type": "code",
   "execution_count": 37,
   "metadata": {},
   "outputs": [],
   "source": [
    "# Load model from model.h5\n",
    "\n",
    "# load datasets\n",
    "model = load_model('model_cluster.h5')\n",
    "\n",
    "\n"
   ]
  },
  {
   "cell_type": "code",
   "execution_count": 38,
   "metadata": {
    "executionInfo": {
     "elapsed": 344,
     "status": "ok",
     "timestamp": 1704643674431,
     "user": {
      "displayName": "eduard petcu",
      "userId": "16499115187321741106"
     },
     "user_tz": -120
    },
    "id": "MEr1EtfErjiI"
   },
   "outputs": [],
   "source": [
    "def word_for_id(integer, tokenizer):\n",
    "    for word, index in tokenizer.word_index.items():\n",
    "        if index == integer:\n",
    "            return word\n",
    "    return None"
   ]
  },
  {
   "cell_type": "code",
   "execution_count": 39,
   "metadata": {
    "executionInfo": {
     "elapsed": 360,
     "status": "ok",
     "timestamp": 1704643680583,
     "user": {
      "displayName": "eduard petcu",
      "userId": "16499115187321741106"
     },
     "user_tz": -120
    },
    "id": "rgzNP6WjrkQC"
   },
   "outputs": [],
   "source": [
    "def predict_sequence(model, tokenizer, source):\n",
    "    prediction = model.predict(source, verbose=0)[0]\n",
    "    integers = [argmax(vector) for vector in prediction]\n",
    "    target = list()\n",
    "    for i in integers:\n",
    "        word = word_for_id(i, tokenizer)\n",
    "        if word is None:\n",
    "            break\n",
    "        target.append(word)\n",
    "    return ' '.join(target)"
   ]
  },
  {
   "cell_type": "code",
   "execution_count": 67,
   "metadata": {
    "executionInfo": {
     "elapsed": 2,
     "status": "ok",
     "timestamp": 1704643688315,
     "user": {
      "displayName": "eduard petcu",
      "userId": "16499115187321741106"
     },
     "user_tz": -120
    },
    "id": "hfP95OPErl1R"
   },
   "outputs": [],
   "source": [
    "def evaluate_model(model, eng_tokenizer, sources, raw_dataset):\n",
    "    actual, predicted = list(), list()\n",
    "    for i, source in enumerate(sources):\n",
    "        # translate encoded source text\n",
    "        source = source.reshape((1, source.shape[0]))\n",
    "        translation = predict_sequence(model, eng_tokenizer, source)\n",
    "        raw_target, raw_src = raw_dataset[i]\n",
    "        if i < 10:\n",
    "            print('src=[%s], target=[%s], predicted=[%s]' % (raw_src, raw_target, translation))\n",
    "        actual.append([raw_target.split()])\n",
    "        predicted.append(translation.split())\n",
    "    # calculate BLEU score\n",
    "    print('BLEU-1: %f' % corpus_bleu(actual, predicted, weights=(1.0, 0, 0, 0)))\n",
    "    print('BLEU-2: %f' % corpus_bleu(actual, predicted, weights=(0.5, 0.5, 0, 0)))\n",
    "    print('BLEU-3: %f' % corpus_bleu(actual, predicted, weights=(0.3, 0.3, 0.3, 0)))\n",
    "    print('BLEU-4: %f' % corpus_bleu(actual, predicted, weights=(0.25, 0.25, 0.25, 0.25)))"
   ]
  },
  {
   "cell_type": "code",
   "execution_count": 68,
   "metadata": {
    "colab": {
     "base_uri": "https://localhost:8080/"
    },
    "executionInfo": {
     "elapsed": 870700,
     "status": "ok",
     "timestamp": 1704644566303,
     "user": {
      "displayName": "eduard petcu",
      "userId": "16499115187321741106"
     },
     "user_tz": -120
    },
    "id": "S_5l5OXFrnqA",
    "outputId": "467b4a9d-04eb-4934-a755-44c9818336a1"
   },
   "outputs": [
    {
     "name": "stdout",
     "output_type": "stream",
     "text": [
      "test\n",
      "src=[alle deine katzen sind grau], target=[all of your cats are grey], predicted=[all of are cats are grey]\n",
      "src=[tom wird mary die entscheidung treffen lassen], target=[tom will let mary decide], predicted=[tom will see mary decide]\n",
      "src=[kennst du tom personlich], target=[do you know tom personally], predicted=[do you know tom personally]\n",
      "src=[er ware beinahe gestorben], target=[he almost died], predicted=[he almost laughed]\n",
      "src=[ich habe halsschmerzen], target=[i have a sore throat], predicted=[i have a sore throat]\n",
      "src=[tom ist alter als maria], target=[tom is older than mary], predicted=[tom is older than mary]\n",
      "src=[bitte werfen sie eine munze ein], target=[please insert a coin], predicted=[please insert a coin]\n",
      "src=[tom hort zu], target=[tom listens], predicted=[tom listens]\n",
      "src=[er ist ein schneller laufer], target=[he runs fast], predicted=[he is an fast]\n",
      "src=[ich dachte du warest glucklich], target=[i thought you were happy], predicted=[i thought you were happy]\n",
      "BLEU-1: 0.828982\n",
      "BLEU-2: 0.751874\n",
      "BLEU-3: 0.706634\n",
      "BLEU-4: 0.599710\n"
     ]
    }
   ],
   "source": [
    "#print('train')\n",
    "#evaluate_model(model, eng_tokenizer, trainX, train)\n",
    "# test on some test sequences\n",
    "print('test')\n",
    "evaluate_model(model, eng_tokenizer, testX, test)"
   ]
  },
  {
   "cell_type": "code",
   "execution_count": 1,
   "metadata": {},
   "outputs": [
    {
     "name": "stdout",
     "output_type": "stream",
     "text": [
      "train\n"
     ]
    },
    {
     "ename": "NameError",
     "evalue": "name 'evaluate_model' is not defined",
     "output_type": "error",
     "traceback": [
      "\u001b[1;31m---------------------------------------------------------------------------\u001b[0m",
      "\u001b[1;31mNameError\u001b[0m                                 Traceback (most recent call last)",
      "Cell \u001b[1;32mIn[1], line 2\u001b[0m\n\u001b[0;32m      1\u001b[0m \u001b[38;5;28mprint\u001b[39m(\u001b[38;5;124m'\u001b[39m\u001b[38;5;124mtrain\u001b[39m\u001b[38;5;124m'\u001b[39m)\n\u001b[1;32m----> 2\u001b[0m \u001b[43mevaluate_model\u001b[49m(model, eng_tokenizer, trainX, train)\n",
      "\u001b[1;31mNameError\u001b[0m: name 'evaluate_model' is not defined"
     ]
    }
   ],
   "source": [
    "print('train')\n",
    "evaluate_model(model, eng_tokenizer, trainX, train)"
   ]
  },
  {
   "cell_type": "code",
   "execution_count": 40,
   "metadata": {},
   "outputs": [],
   "source": [
    "# Functia de traducere\n",
    "def translate(text):\n",
    "    text_to_translate = [text]\n",
    "\n",
    "    sequences = ger_tokenizer.texts_to_sequences(text_to_translate)\n",
    "    sequences = pad_sequences(sequences, maxlen=ger_length, padding='post')\n",
    "\n",
    "    translation = predict_sequence(model, eng_tokenizer, sequences)\n",
    "    return translation\n"
   ]
  },
  {
   "cell_type": "code",
   "execution_count": 41,
   "metadata": {},
   "outputs": [
    {
     "name": "stdout",
     "output_type": "stream",
     "text": [
      "0.4\n"
     ]
    },
    {
     "name": "stderr",
     "output_type": "stream",
     "text": [
      "C:\\Users\\farha\\AppData\\Local\\Packages\\PythonSoftwareFoundation.Python.3.10_qbz5n2kfra8p0\\LocalCache\\local-packages\\Python310\\site-packages\\nltk\\translate\\bleu_score.py:552: UserWarning: \n",
      "The hypothesis contains 0 counts of 2-gram overlaps.\n",
      "Therefore the BLEU score evaluates to 0, independently of\n",
      "how many N-gram overlaps of lower order it contains.\n",
      "Consider using lower n-gram order or use SmoothingFunction()\n",
      "  warnings.warn(_msg)\n",
      "C:\\Users\\farha\\AppData\\Local\\Packages\\PythonSoftwareFoundation.Python.3.10_qbz5n2kfra8p0\\LocalCache\\local-packages\\Python310\\site-packages\\nltk\\translate\\bleu_score.py:552: UserWarning: \n",
      "The hypothesis contains 0 counts of 3-gram overlaps.\n",
      "Therefore the BLEU score evaluates to 0, independently of\n",
      "how many N-gram overlaps of lower order it contains.\n",
      "Consider using lower n-gram order or use SmoothingFunction()\n",
      "  warnings.warn(_msg)\n",
      "C:\\Users\\farha\\AppData\\Local\\Packages\\PythonSoftwareFoundation.Python.3.10_qbz5n2kfra8p0\\LocalCache\\local-packages\\Python310\\site-packages\\nltk\\translate\\bleu_score.py:552: UserWarning: \n",
      "The hypothesis contains 0 counts of 4-gram overlaps.\n",
      "Therefore the BLEU score evaluates to 0, independently of\n",
      "how many N-gram overlaps of lower order it contains.\n",
      "Consider using lower n-gram order or use SmoothingFunction()\n",
      "  warnings.warn(_msg)\n"
     ]
    }
   ],
   "source": [
    "source = \"Ich bin h# eute schlechter Laune.\"\n",
    "target = \"I'm in a bad mood today.\"\n",
    "\n",
    "output = translate(source)\n",
    "\n",
    "# BLEU\n",
    "bleu = corpus_bleu([target], [output], weights=(1.0, 0, 0, 0))\n",
    "print(bleu)"
   ]
  },
  {
   "cell_type": "code",
   "execution_count": 19,
   "metadata": {},
   "outputs": [
    {
     "name": "stdout",
     "output_type": "stream",
     "text": [
      "its is over\n",
      "0.45454545454545453\n"
     ]
    },
    {
     "name": "stderr",
     "output_type": "stream",
     "text": [
      "C:\\Users\\farha\\AppData\\Local\\Packages\\PythonSoftwareFoundation.Python.3.10_qbz5n2kfra8p0\\LocalCache\\local-packages\\Python310\\site-packages\\nltk\\translate\\bleu_score.py:552: UserWarning: \n",
      "The hypothesis contains 0 counts of 2-gram overlaps.\n",
      "Therefore the BLEU score evaluates to 0, independently of\n",
      "how many N-gram overlaps of lower order it contains.\n",
      "Consider using lower n-gram order or use SmoothingFunction()\n",
      "  warnings.warn(_msg)\n",
      "C:\\Users\\farha\\AppData\\Local\\Packages\\PythonSoftwareFoundation.Python.3.10_qbz5n2kfra8p0\\LocalCache\\local-packages\\Python310\\site-packages\\nltk\\translate\\bleu_score.py:552: UserWarning: \n",
      "The hypothesis contains 0 counts of 3-gram overlaps.\n",
      "Therefore the BLEU score evaluates to 0, independently of\n",
      "how many N-gram overlaps of lower order it contains.\n",
      "Consider using lower n-gram order or use SmoothingFunction()\n",
      "  warnings.warn(_msg)\n",
      "C:\\Users\\farha\\AppData\\Local\\Packages\\PythonSoftwareFoundation.Python.3.10_qbz5n2kfra8p0\\LocalCache\\local-packages\\Python310\\site-packages\\nltk\\translate\\bleu_score.py:552: UserWarning: \n",
      "The hypothesis contains 0 counts of 4-gram overlaps.\n",
      "Therefore the BLEU score evaluates to 0, independently of\n",
      "how many N-gram overlaps of lower order it contains.\n",
      "Consider using lower n-gram order or use SmoothingFunction()\n",
      "  warnings.warn(_msg)\n"
     ]
    }
   ],
   "source": [
    "\n",
    "source = \"Es ist immer noch Montag.\"\n",
    "target = \"It's still Monday.\"\n",
    "\n",
    "output = translate(source)\n",
    "print(output)\n",
    "\n",
    "# BLEU\n",
    "bleu = corpus_bleu([target], [output], weights=(1.0, 0, 0, 0))\n",
    "print(bleu)"
   ]
  },
  {
   "cell_type": "code",
   "execution_count": 49,
   "metadata": {},
   "outputs": [
    {
     "name": "stderr",
     "output_type": "stream",
     "text": [
      "C:\\Users\\farha\\AppData\\Local\\Packages\\PythonSoftwareFoundation.Python.3.10_qbz5n2kfra8p0\\LocalCache\\local-packages\\Python310\\site-packages\\nltk\\translate\\bleu_score.py:552: UserWarning: \n",
      "The hypothesis contains 0 counts of 2-gram overlaps.\n",
      "Therefore the BLEU score evaluates to 0, independently of\n",
      "how many N-gram overlaps of lower order it contains.\n",
      "Consider using lower n-gram order or use SmoothingFunction()\n",
      "  warnings.warn(_msg)\n",
      "C:\\Users\\farha\\AppData\\Local\\Packages\\PythonSoftwareFoundation.Python.3.10_qbz5n2kfra8p0\\LocalCache\\local-packages\\Python310\\site-packages\\nltk\\translate\\bleu_score.py:552: UserWarning: \n",
      "The hypothesis contains 0 counts of 3-gram overlaps.\n",
      "Therefore the BLEU score evaluates to 0, independently of\n",
      "how many N-gram overlaps of lower order it contains.\n",
      "Consider using lower n-gram order or use SmoothingFunction()\n",
      "  warnings.warn(_msg)\n",
      "C:\\Users\\farha\\AppData\\Local\\Packages\\PythonSoftwareFoundation.Python.3.10_qbz5n2kfra8p0\\LocalCache\\local-packages\\Python310\\site-packages\\nltk\\translate\\bleu_score.py:552: UserWarning: \n",
      "The hypothesis contains 0 counts of 4-gram overlaps.\n",
      "Therefore the BLEU score evaluates to 0, independently of\n",
      "how many N-gram overlaps of lower order it contains.\n",
      "Consider using lower n-gram order or use SmoothingFunction()\n",
      "  warnings.warn(_msg)\n"
     ]
    }
   ],
   "source": [
    "\n",
    "# Avem modelul antrenat de Alice.\n",
    "# Luam o parte din datasetul pe care s-a antrenat modelul si il testam cu acesta => label IN probe\n",
    "# Luam o alta parte din dataset pe care modelul lui Alice NU s-a antrenat si il testam si pe acesta => label OUT probe\n",
    "# Construim un clasificator care, pe baza scorurilor generate pe fiecare label, acesta poate eticheta daca o propozitie\n",
    "# este IN probe sau OUT probe\n",
    "# Pentru testarea clasificatorului, se aleg alte bucati din dataset care sunt atat IN probe si OUT probe si se verifica\n",
    "# acuratetea ghicelii. Daca per total avem rezultat de 50% sau mai putin => ESEC , altfel, atacul este un success\n",
    "\n",
    "\n",
    "raw_dataset = load_clean_sentences('english-german-clean.pkl')\n",
    "shuffle(raw_dataset)\n",
    "dimension_to_split =  20000 #14000\n",
    "#max_dim = 100000\n",
    "# reduce dataset size\n",
    "n_sentences_limit = 5000 #5000\n",
    "dataset = raw_dataset[:dimension_to_split, :]\n",
    "# random shuffle\n",
    "shuffle(dataset)\n",
    "\n",
    "dataset_trained = dataset[:n_sentences_limit, :]\n",
    "\n",
    "# make dataset_trained an array where first 3 columns are arrays and 4th column is a number\n",
    "#dataset_trained = np.array(dataset_trained)\n",
    "#dataset_trained = np.reshape(dataset_trained, (len(dataset_trained), 4))\n",
    "\n",
    "\n",
    "column_pahar = []\n",
    "new_dataset_trained = []\n",
    "for sentence in dataset_trained:\n",
    "    sentence = np.append(sentence, translate(sentence[1]))\n",
    "    sentence = np.append(sentence, 1) # IN\n",
    "    column_pahar = sentence[0]\n",
    "    sentence[0] = sentence[1]\n",
    "    sentence[1] = column_pahar\n",
    "    bleu = corpus_bleu([sentence[1]], [sentence[2]], weights=(1.0, 0, 0, 0))\n",
    "    sentence = np.append(sentence, bleu)\n",
    "    new_dataset_trained.append(sentence)\n",
    "\n",
    "dataset_5000 = load_doc('deu_5000.txt')\n",
    "\n",
    "dataset_5000 = to_pairs(dataset_5000)\n",
    "\n",
    "dataset_5000 = clean_pairs(dataset_5000)\n",
    "\n",
    "save_clean_data = (dataset_5000, 'english-german_5000.pkl')\n",
    "\n",
    "dataset_5000 = np.array(dataset_5000)\n",
    "\n",
    "dataset_2 = dataset_5000\n",
    "#raw_dataset[dimension_to_split:max_dim, :]\n",
    "# random shuffle\n",
    "shuffle(dataset_2)\n",
    "dataset_not_trained = dataset_2[:n_sentences_limit, :]\n",
    "\n",
    "new_dataset_untrained = []\n",
    "for sentence in dataset_not_trained:\n",
    "    sentence = np.append(sentence, translate(sentence[1]))\n",
    "    sentence = np.append(sentence, 0) # OUT\n",
    "    column_pahar = sentence[0]\n",
    "    sentence[0] = sentence[1]\n",
    "    sentence[1] = column_pahar\n",
    "    bleu = corpus_bleu([sentence[1]], [sentence[2]], weights=(1.0, 0, 0, 0))\n",
    "    sentence = np.append(sentence, bleu)\n",
    "    new_dataset_untrained.append(sentence)\n",
    "\n",
    "# big_list = [dataset_trained, dataset_not_trained]\n",
    "big_list = new_dataset_trained + new_dataset_untrained\n",
    "shuffle(big_list)\n",
    "# df = pd.DataFrame(dataset_trained, dataset_not_trained, )\n",
    "\n",
    "\n",
    "# We luam 5000 de propozitii din A_train (folosite de Alice la training)\n",
    "# Luam 5000 propozitii nefolosite in training si alcatuim un tabel de forma\n",
    "# PROP_GERMANA  OUTPUT  TARGET  LABEL\n",
    "\n",
    "# PROP_GERMANA = propozitia in germana\n",
    "# OUTPUT = propozitia in engleza generata de Alice\n",
    "# TARGET = propozitia in engleza corecta\n",
    "# LABEL = IN sau OUT\n",
    "\n"
   ]
  },
  {
   "cell_type": "code",
   "execution_count": 50,
   "metadata": {},
   "outputs": [],
   "source": [
    "import pandas as pd \n",
    "# print (new_dataset_trained)\n",
    "df = pd.DataFrame(big_list, columns=['INPUT', 'REF', 'OUTPUT', 'LABEL', 'BLEU'])"
   ]
  },
  {
   "cell_type": "code",
   "execution_count": 51,
   "metadata": {},
   "outputs": [],
   "source": [
    "filename = 'dataset.csv'\n",
    "df.to_csv(filename, sep=',', index=False, encoding='utf-8')"
   ]
  },
  {
   "cell_type": "code",
   "execution_count": 52,
   "metadata": {},
   "outputs": [
    {
     "name": "stdout",
     "output_type": "stream",
     "text": [
      "                                      INPUT                        REF  \\\n",
      "0             wozu wollt ihr das denn haben  what do you want that for   \n",
      "1         das hort sich fur mich komisch an  that sounds strange to me   \n",
      "2                  das streite ich nicht ab        im not denying that   \n",
      "3            auf der toilette nicht rauchen   dont smoke in the toilet   \n",
      "4                             was sagen sie       what are they saying   \n",
      "...                                     ...                        ...   \n",
      "9995                     er offnete die tur         he opened the door   \n",
      "9996                        er sagte nichts            he said nothing   \n",
      "9997  wie wird es mit japan nur weitergehen  what will become of japan   \n",
      "9998                ich habe alles verloren          i lost everything   \n",
      "9999              nehmen sie ihre tabletten            take your pills   \n",
      "\n",
      "                          OUTPUT LABEL                 BLEU  \n",
      "0            what do you want to     1   0.5263157894736842  \n",
      "1     that sounds funny funny me     0   0.4230769230769231  \n",
      "2               i dont deny that     1                0.625  \n",
      "3      dont smoke out the toilet     1                 0.48  \n",
      "4         what are saying saying     1   0.5454545454545454  \n",
      "...                          ...   ...                  ...  \n",
      "9995          he opened the door     1                  0.5  \n",
      "9996       he didnt say anything     0  0.47619047619047616  \n",
      "9997     what will to hard japan     1   0.4782608695652174  \n",
      "9998         ive lost everything     1   0.6842105263157895  \n",
      "9999           take your clothes     0   0.6470588235294118  \n",
      "\n",
      "[10000 rows x 5 columns]\n"
     ]
    }
   ],
   "source": [
    "print(df)"
   ]
  },
  {
   "cell_type": "code",
   "execution_count": 53,
   "metadata": {},
   "outputs": [],
   "source": [
    "from sklearn.model_selection import train_test_split\n",
    "from sklearn.feature_extraction.text import CountVectorizer\n",
    "from sklearn.naive_bayes import MultinomialNB\n",
    "from sklearn.metrics import accuracy_score, classification_report\n",
    "from sklearn.metrics import confusion_matrix\n",
    "import seaborn as sns\n",
    "import matplotlib.pyplot as plt\n"
   ]
  },
  {
   "cell_type": "code",
   "execution_count": 54,
   "metadata": {},
   "outputs": [],
   "source": [
    "train_limit = int(8 / 10 * 2 * n_sentences_limit)"
   ]
  },
  {
   "cell_type": "code",
   "execution_count": 55,
   "metadata": {},
   "outputs": [
    {
     "name": "stdout",
     "output_type": "stream",
     "text": [
      "Accuracy: 0.4897448724362181\n",
      "Classification Report:\n",
      "              precision    recall  f1-score   support\n",
      "\n",
      "           0       0.00      0.00      0.00      1020\n",
      "           1       0.49      1.00      0.66       979\n",
      "\n",
      "    accuracy                           0.49      1999\n",
      "   macro avg       0.24      0.50      0.33      1999\n",
      "weighted avg       0.24      0.49      0.32      1999\n",
      "\n"
     ]
    },
    {
     "name": "stderr",
     "output_type": "stream",
     "text": [
      "C:\\Users\\farha\\AppData\\Local\\Packages\\PythonSoftwareFoundation.Python.3.10_qbz5n2kfra8p0\\LocalCache\\local-packages\\Python310\\site-packages\\sklearn\\metrics\\_classification.py:1344: UndefinedMetricWarning: Precision and F-score are ill-defined and being set to 0.0 in labels with no predicted samples. Use `zero_division` parameter to control this behavior.\n",
      "  _warn_prf(average, modifier, msg_start, len(result))\n",
      "C:\\Users\\farha\\AppData\\Local\\Packages\\PythonSoftwareFoundation.Python.3.10_qbz5n2kfra8p0\\LocalCache\\local-packages\\Python310\\site-packages\\sklearn\\metrics\\_classification.py:1344: UndefinedMetricWarning: Precision and F-score are ill-defined and being set to 0.0 in labels with no predicted samples. Use `zero_division` parameter to control this behavior.\n",
      "  _warn_prf(average, modifier, msg_start, len(result))\n",
      "C:\\Users\\farha\\AppData\\Local\\Packages\\PythonSoftwareFoundation.Python.3.10_qbz5n2kfra8p0\\LocalCache\\local-packages\\Python310\\site-packages\\sklearn\\metrics\\_classification.py:1344: UndefinedMetricWarning: Precision and F-score are ill-defined and being set to 0.0 in labels with no predicted samples. Use `zero_division` parameter to control this behavior.\n",
      "  _warn_prf(average, modifier, msg_start, len(result))\n"
     ]
    }
   ],
   "source": [
    "# df - dataset, split between training and testing\n",
    "# NAIVE BAYES\n",
    "\n",
    "df_train = df[:train_limit]\n",
    "df_test = df[train_limit+1:]\n",
    "\n",
    "X_train = df_train['BLEU']\n",
    "y_train = df_train['LABEL']\n",
    "\n",
    "\n",
    "# Train the classifier\n",
    "classifier = MultinomialNB()\n",
    "classifier.fit(X_train.values.reshape(-1, 1), y_train)\n",
    "classifier.fit(X_train.values.reshape(-1, 1), y_train)\n",
    "\n",
    "# Predict the labels for the testing data\n",
    "y_pred = classifier.predict(df_test['BLEU'].values.reshape(-1, 1))\n",
    "\n",
    "# Calculate the accuracy of the classifier\n",
    "accuracy = accuracy_score(df_test['LABEL'], y_pred)\n",
    "print(\"Accuracy:\", accuracy)\n",
    "\n",
    "# Generate classification report\n",
    "report = classification_report(df_test['LABEL'], y_pred)\n",
    "print(\"Classification Report:\")\n",
    "print(report)\n"
   ]
  },
  {
   "cell_type": "code",
   "execution_count": 56,
   "metadata": {},
   "outputs": [
    {
     "name": "stdout",
     "output_type": "stream",
     "text": [
      "Naive Bayes\n"
     ]
    },
    {
     "data": {
      "image/png": "[encoded data removed]",
      "text/plain": [
       "<Figure size 640x480 with 2 Axes>"
      ]
     },
     "metadata": {},
     "output_type": "display_data"
    }
   ],
   "source": [
    "# Confussion matrix\n",
    "# Naive Bayes\n",
    "print(\"Naive Bayes\")\n",
    "cm = confusion_matrix(df_test['LABEL'], y_pred)\n",
    "sns.heatmap(cm, annot=True, fmt='d', cmap='Blues')\n",
    "plt.xlabel('Predicted')\n",
    "plt.ylabel('Truth')\n",
    "plt.show()"
   ]
  },
  {
   "cell_type": "code",
   "execution_count": 57,
   "metadata": {},
   "outputs": [
    {
     "name": "stdout",
     "output_type": "stream",
     "text": [
      "Accuracy: 0.583791895947974\n",
      "Classification Report:\n",
      "              precision    recall  f1-score   support\n",
      "\n",
      "           0       0.65      0.39      0.49      1020\n",
      "           1       0.55      0.78      0.65       979\n",
      "\n",
      "    accuracy                           0.58      1999\n",
      "   macro avg       0.60      0.59      0.57      1999\n",
      "weighted avg       0.60      0.58      0.57      1999\n",
      "\n"
     ]
    }
   ],
   "source": [
    "# RANDOM FOREST\n",
    "\n",
    "from sklearn.ensemble import RandomForestClassifier\n",
    "from sklearn.datasets import make_classification\n",
    "\n",
    "X_train = df_train['BLEU']\n",
    "y_train = df_train['LABEL']\n",
    "\n",
    "clf = RandomForestClassifier(max_depth=2, random_state=0)\n",
    "clf.fit(X_train.values.reshape(-1, 1), y_train)\n",
    "\n",
    "# Predict the labels for the testing data\n",
    "y_pred = clf.predict(df_test['BLEU'].values.reshape(-1, 1))\n",
    "\n",
    "# Calculate the accuracy of the classifier\n",
    "accuracy = accuracy_score(df_test['LABEL'], y_pred)\n",
    "print(\"Accuracy:\", accuracy)\n",
    "\n",
    "# Generate classification report\n",
    "report = classification_report(df_test['LABEL'], y_pred)\n",
    "\n",
    "print(\"Classification Report:\")\n",
    "print(report)\n"
   ]
  },
  {
   "cell_type": "code",
   "execution_count": 58,
   "metadata": {},
   "outputs": [
    {
     "name": "stdout",
     "output_type": "stream",
     "text": [
      "Random Forest\n"
     ]
    },
    {
     "data": {
      "image/png": "[encoded data removed]",
      "text/plain": [
       "<Figure size 640x480 with 2 Axes>"
      ]
     },
     "metadata": {},
     "output_type": "display_data"
    }
   ],
   "source": [
    "# Confussion matrix\n",
    "\n",
    "# Random Forest\n",
    "print(\"Random Forest\")\n",
    "cm = confusion_matrix(df_test['LABEL'], y_pred)\n",
    "sns.heatmap(cm, annot=True, fmt='d', cmap='Blues')\n",
    "plt.xlabel('Predicted')\n",
    "plt.ylabel('Truth')\n",
    "plt.show()"
   ]
  },
  {
   "cell_type": "code",
   "execution_count": 59,
   "metadata": {},
   "outputs": [
    {
     "name": "stdout",
     "output_type": "stream",
     "text": [
      "Accuracy: 0.5532766383191596\n",
      "Classification Report:\n",
      "              precision    recall  f1-score   support\n",
      "\n",
      "           0       0.57      0.52      0.54      1020\n",
      "           1       0.54      0.59      0.57       979\n",
      "\n",
      "    accuracy                           0.55      1999\n",
      "   macro avg       0.55      0.55      0.55      1999\n",
      "weighted avg       0.55      0.55      0.55      1999\n",
      "\n"
     ]
    }
   ],
   "source": [
    "# NEAREST NEIGHBOUR\n",
    "from sklearn.neighbors import KNeighborsClassifier\n",
    "\n",
    "X_train = df_train['BLEU']\n",
    "y_train = df_train['LABEL']\n",
    "\n",
    "neigh = KNeighborsClassifier(n_neighbors=3)\n",
    "neigh.fit(X_train.values.reshape(-1, 1), y_train)\n",
    "\n",
    "# Predict the labels for the testing data\n",
    "\n",
    "y_pred = neigh.predict(df_test['BLEU'].values.reshape(-1, 1))\n",
    "\n",
    "# Calculate the accuracy of the classifier\n",
    "accuracy = accuracy_score(df_test['LABEL'], y_pred)\n",
    "print(\"Accuracy:\", accuracy)\n",
    "\n",
    "# Generate classification report\n",
    "report = classification_report(df_test['LABEL'], y_pred)\n",
    "\n",
    "print(\"Classification Report:\")\n",
    "print(report)"
   ]
  },
  {
   "cell_type": "code",
   "execution_count": 60,
   "metadata": {},
   "outputs": [
    {
     "name": "stdout",
     "output_type": "stream",
     "text": [
      "Nearest Neighbour\n"
     ]
    },
    {
     "data": {
      "image/png": "[encoded data removed]",
      "text/plain": [
       "<Figure size 640x480 with 2 Axes>"
      ]
     },
     "metadata": {},
     "output_type": "display_data"
    }
   ],
   "source": [
    "# Nearest Neighbour\n",
    "print(\"Nearest Neighbour\")\n",
    "cm = confusion_matrix(df_test['LABEL'], y_pred)\n",
    "sns.heatmap(cm, annot=True, fmt='d', cmap='Blues')\n",
    "plt.xlabel('Predicted')\n",
    "plt.ylabel('Truth')\n",
    "plt.show()"
   ]
  },
  {
   "cell_type": "code",
   "execution_count": 61,
   "metadata": {},
   "outputs": [
    {
     "name": "stdout",
     "output_type": "stream",
     "text": [
      "Accuracy: 0.5102551275637819\n",
      "Classification Report:\n",
      "              precision    recall  f1-score   support\n",
      "\n",
      "           0       0.51      1.00      0.68      1020\n",
      "           1       0.00      0.00      0.00       979\n",
      "\n",
      "    accuracy                           0.51      1999\n",
      "   macro avg       0.26      0.50      0.34      1999\n",
      "weighted avg       0.26      0.51      0.34      1999\n",
      "\n"
     ]
    },
    {
     "name": "stderr",
     "output_type": "stream",
     "text": [
      "C:\\Users\\farha\\AppData\\Local\\Packages\\PythonSoftwareFoundation.Python.3.10_qbz5n2kfra8p0\\LocalCache\\local-packages\\Python310\\site-packages\\sklearn\\metrics\\_classification.py:1344: UndefinedMetricWarning: Precision and F-score are ill-defined and being set to 0.0 in labels with no predicted samples. Use `zero_division` parameter to control this behavior.\n",
      "  _warn_prf(average, modifier, msg_start, len(result))\n",
      "C:\\Users\\farha\\AppData\\Local\\Packages\\PythonSoftwareFoundation.Python.3.10_qbz5n2kfra8p0\\LocalCache\\local-packages\\Python310\\site-packages\\sklearn\\metrics\\_classification.py:1344: UndefinedMetricWarning: Precision and F-score are ill-defined and being set to 0.0 in labels with no predicted samples. Use `zero_division` parameter to control this behavior.\n",
      "  _warn_prf(average, modifier, msg_start, len(result))\n",
      "C:\\Users\\farha\\AppData\\Local\\Packages\\PythonSoftwareFoundation.Python.3.10_qbz5n2kfra8p0\\LocalCache\\local-packages\\Python310\\site-packages\\sklearn\\metrics\\_classification.py:1344: UndefinedMetricWarning: Precision and F-score are ill-defined and being set to 0.0 in labels with no predicted samples. Use `zero_division` parameter to control this behavior.\n",
      "  _warn_prf(average, modifier, msg_start, len(result))\n"
     ]
    }
   ],
   "source": [
    "# Perceptron\n",
    "\n",
    "from sklearn.linear_model import Perceptron\n",
    "\n",
    "X_train = df_train['BLEU']\n",
    "y_train = df_train['LABEL']\n",
    "\n",
    "clf = Perceptron(tol=1e-3, random_state=0)\n",
    "clf.fit(X_train.values.reshape(-1, 1), y_train)\n",
    "\n",
    "# Predict the labels for the testing data\n",
    "y_pred = clf.predict(df_test['BLEU'].values.reshape(-1, 1))\n",
    "\n",
    "# Calculate the accuracy of the classifier\n",
    "accuracy = accuracy_score(df_test['LABEL'], y_pred)\n",
    "\n",
    "print(\"Accuracy:\", accuracy)\n",
    "\n",
    "# Generate classification report\n",
    "report = classification_report(df_test['LABEL'], y_pred)\n",
    "\n",
    "print(\"Classification Report:\")\n",
    "print(report)\n"
   ]
  },
  {
   "cell_type": "code",
   "execution_count": 62,
   "metadata": {},
   "outputs": [
    {
     "name": "stdout",
     "output_type": "stream",
     "text": [
      "Perceptron\n"
     ]
    },
    {
     "data": {
      "image/png": "[encoded data removed]",
      "text/plain": [
       "<Figure size 640x480 with 2 Axes>"
      ]
     },
     "metadata": {},
     "output_type": "display_data"
    }
   ],
   "source": [
    "# Perceptron\n",
    "print(\"Perceptron\")\n",
    "cm = confusion_matrix(df_test['LABEL'], y_pred)\n",
    "sns.heatmap(cm, annot=True, fmt='d', cmap='Blues')\n",
    "plt.xlabel('Predicted')\n",
    "plt.ylabel('Truth')\n",
    "plt.show()\n"
   ]
  },
  {
   "cell_type": "code",
   "execution_count": 63,
   "metadata": {},
   "outputs": [
    {
     "name": "stdout",
     "output_type": "stream",
     "text": [
      "Accuracy: 0.5782891445722862\n",
      "Classification Report:\n",
      "              precision    recall  f1-score   support\n",
      "\n",
      "           0       0.63      0.41      0.50      1020\n",
      "           1       0.55      0.75      0.64       979\n",
      "\n",
      "    accuracy                           0.58      1999\n",
      "   macro avg       0.59      0.58      0.57      1999\n",
      "weighted avg       0.59      0.58      0.57      1999\n",
      "\n"
     ]
    }
   ],
   "source": [
    "# Multi-layer Perceptron (MLP)\n",
    "\n",
    "from sklearn.neural_network import MLPClassifier\n",
    "\n",
    "X_train = df_train['BLEU']\n",
    "y_train = df_train['LABEL']\n",
    "\n",
    "clf = MLPClassifier(random_state=1, max_iter=300).fit(X_train.values.reshape(-1, 1), y_train)\n",
    "\n",
    "# Predict the labels for the testing data\n",
    "y_pred = clf.predict(df_test['BLEU'].values.reshape(-1, 1))\n",
    "\n",
    "# Calculate the accuracy of the classifier\n",
    "accuracy = accuracy_score(df_test['LABEL'], y_pred)\n",
    "\n",
    "print(\"Accuracy:\", accuracy)\n",
    "\n",
    "# Generate classification report\n",
    "report = classification_report(df_test['LABEL'], y_pred)\n",
    "\n",
    "print(\"Classification Report:\")\n",
    "print(report)\n",
    "\n",
    "\n"
   ]
  },
  {
   "cell_type": "code",
   "execution_count": 56,
   "metadata": {},
   "outputs": [
    {
     "name": "stdout",
     "output_type": "stream",
     "text": [
      "MLP\n"
     ]
    },
    {
     "data": {
      "image/png": "[encoded data removed]",
      "text/plain": [
       "<Figure size 640x480 with 2 Axes>"
      ]
     },
     "metadata": {},
     "output_type": "display_data"
    }
   ],
   "source": [
    "# MLP\n",
    "print(\"MLP\")\n",
    "cm = confusion_matrix(df_test['LABEL'], y_pred)\n",
    "sns.heatmap(cm, annot=True, fmt='d', cmap='Blues')\n",
    "plt.xlabel('Predicted')\n",
    "plt.ylabel('Truth')\n",
    "plt.show()\n",
    "\n"
   ]
  },
  {
   "cell_type": "code",
   "execution_count": 64,
   "metadata": {},
   "outputs": [
    {
     "name": "stdout",
     "output_type": "stream",
     "text": [
      "Accuracy: 0.6198099049524762\n",
      "Classification Report:\n",
      "              precision    recall  f1-score   support\n",
      "\n",
      "           0       0.63      0.61      0.62      1020\n",
      "           1       0.61      0.63      0.62       979\n",
      "\n",
      "    accuracy                           0.62      1999\n",
      "   macro avg       0.62      0.62      0.62      1999\n",
      "weighted avg       0.62      0.62      0.62      1999\n",
      "\n"
     ]
    }
   ],
   "source": [
    "# Decision Tree\n",
    "\n",
    "from sklearn import tree\n",
    "\n",
    "X_train = df_train['BLEU']\n",
    "y_train = df_train['LABEL']\n",
    "\n",
    "clf = tree.DecisionTreeClassifier()\n",
    "clf = clf.fit(X_train.values.reshape(-1, 1), y_train)\n",
    "\n",
    "# Predict the labels for the testing data\n",
    "y_pred = clf.predict(df_test['BLEU'].values.reshape(-1, 1))\n",
    "\n",
    "# Calculate the accuracy of the classifier\n",
    "accuracy = accuracy_score(df_test['LABEL'], y_pred)\n",
    "print(\"Accuracy:\", accuracy)\n",
    "\n",
    "# Generate classification report\n",
    "report = classification_report(df_test['LABEL'], y_pred)\n",
    "print(\"Classification Report:\")\n",
    "print(report)\n",
    "\n"
   ]
  },
  {
   "cell_type": "code",
   "execution_count": 65,
   "metadata": {},
   "outputs": [
    {
     "name": "stdout",
     "output_type": "stream",
     "text": [
      "Decision Tree\n"
     ]
    },
    {
     "data": {
      "image/png": "[encoded data removed]",
      "text/plain": [
       "<Figure size 640x480 with 2 Axes>"
      ]
     },
     "metadata": {},
     "output_type": "display_data"
    }
   ],
   "source": [
    "# Decision Tree\n",
    "\n",
    "print(\"Decision Tree\")\n",
    "\n",
    "cm = confusion_matrix(df_test['LABEL'], y_pred)\n",
    "sns.heatmap(cm, annot=True, fmt='d', cmap='Blues')\n",
    "plt.xlabel('Predicted')\n",
    "plt.ylabel('Truth')\n",
    "plt.show()"
   ]
  }
 ],
 "metadata": {
  "colab": {
   "authorship_tag": "ABX9TyOsUgUg2kgVVAMCYzysPgJJ",
   "provenance": []
  },
  "kernelspec": {
   "display_name": "Python 3 (ipykernel)",
   "language": "python",
   "name": "python3"
  },
  "language_info": {
   "codemirror_mode": {
    "name": "ipython",
    "version": 3
   },
   "file_extension": ".py",
   "mimetype": "text/x-python",
   "name": "python",
   "nbconvert_exporter": "python",
   "pygments_lexer": "ipython3",
   "version": "3.10.11"
  }
 },
 "nbformat": 4,
 "nbformat_minor": 1
}
